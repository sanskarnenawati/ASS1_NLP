{
 "cells": [
  {
   "cell_type": "code",
   "execution_count": 1,
   "id": "8ecc94a6",
   "metadata": {},
   "outputs": [],
   "source": [
    "import pandas as pd"
   ]
  },
  {
   "cell_type": "code",
   "execution_count": 2,
   "id": "9f21ffcb",
   "metadata": {},
   "outputs": [],
   "source": [
    "df = pd.read_csv('IMDBDataset.csv')\n"
   ]
  },
  {
   "cell_type": "code",
   "execution_count": 3,
   "id": "0ac80d66",
   "metadata": {},
   "outputs": [
    {
     "data": {
      "text/html": [
       "<div>\n",
       "<style scoped>\n",
       "    .dataframe tbody tr th:only-of-type {\n",
       "        vertical-align: middle;\n",
       "    }\n",
       "\n",
       "    .dataframe tbody tr th {\n",
       "        vertical-align: top;\n",
       "    }\n",
       "\n",
       "    .dataframe thead th {\n",
       "        text-align: right;\n",
       "    }\n",
       "</style>\n",
       "<table border=\"1\" class=\"dataframe\">\n",
       "  <thead>\n",
       "    <tr style=\"text-align: right;\">\n",
       "      <th></th>\n",
       "      <th>review</th>\n",
       "      <th>sentiment</th>\n",
       "    </tr>\n",
       "  </thead>\n",
       "  <tbody>\n",
       "    <tr>\n",
       "      <th>0</th>\n",
       "      <td>One of the other reviewers has mentioned that ...</td>\n",
       "      <td>positive</td>\n",
       "    </tr>\n",
       "    <tr>\n",
       "      <th>1</th>\n",
       "      <td>A wonderful little production. &lt;br /&gt;&lt;br /&gt;The...</td>\n",
       "      <td>positive</td>\n",
       "    </tr>\n",
       "    <tr>\n",
       "      <th>2</th>\n",
       "      <td>I thought this was a wonderful way to spend ti...</td>\n",
       "      <td>positive</td>\n",
       "    </tr>\n",
       "    <tr>\n",
       "      <th>3</th>\n",
       "      <td>Basically there's a family where a little boy ...</td>\n",
       "      <td>negative</td>\n",
       "    </tr>\n",
       "    <tr>\n",
       "      <th>4</th>\n",
       "      <td>Petter Mattei's \"Love in the Time of Money\" is...</td>\n",
       "      <td>positive</td>\n",
       "    </tr>\n",
       "  </tbody>\n",
       "</table>\n",
       "</div>"
      ],
      "text/plain": [
       "                                              review sentiment\n",
       "0  One of the other reviewers has mentioned that ...  positive\n",
       "1  A wonderful little production. <br /><br />The...  positive\n",
       "2  I thought this was a wonderful way to spend ti...  positive\n",
       "3  Basically there's a family where a little boy ...  negative\n",
       "4  Petter Mattei's \"Love in the Time of Money\" is...  positive"
      ]
     },
     "execution_count": 3,
     "metadata": {},
     "output_type": "execute_result"
    }
   ],
   "source": [
    "df.head()"
   ]
  },
  {
   "cell_type": "code",
   "execution_count": 4,
   "id": "ac2e9e31",
   "metadata": {},
   "outputs": [],
   "source": [
    "import nltk\n",
    "from nltk.tokenize import word_tokenize\n",
    "from nltk.corpus import stopwords\n",
    "from nltk.stem import WordNetLemmatizer\n"
   ]
  },
  {
   "cell_type": "code",
   "execution_count": 5,
   "id": "e8f50b13",
   "metadata": {},
   "outputs": [],
   "source": [
    "texts = df['review']"
   ]
  },
  {
   "cell_type": "code",
   "execution_count": 6,
   "id": "4ba9d2e6",
   "metadata": {},
   "outputs": [
    {
     "data": {
      "text/html": [
       "<div>\n",
       "<style scoped>\n",
       "    .dataframe tbody tr th:only-of-type {\n",
       "        vertical-align: middle;\n",
       "    }\n",
       "\n",
       "    .dataframe tbody tr th {\n",
       "        vertical-align: top;\n",
       "    }\n",
       "\n",
       "    .dataframe thead th {\n",
       "        text-align: right;\n",
       "    }\n",
       "</style>\n",
       "<table border=\"1\" class=\"dataframe\">\n",
       "  <thead>\n",
       "    <tr style=\"text-align: right;\">\n",
       "      <th></th>\n",
       "      <th>review</th>\n",
       "      <th>sentiment</th>\n",
       "    </tr>\n",
       "  </thead>\n",
       "  <tbody>\n",
       "    <tr>\n",
       "      <th>0</th>\n",
       "      <td>One of the other reviewers has mentioned that ...</td>\n",
       "      <td>positive</td>\n",
       "    </tr>\n",
       "    <tr>\n",
       "      <th>1</th>\n",
       "      <td>A wonderful little production. &lt;br /&gt;&lt;br /&gt;The...</td>\n",
       "      <td>positive</td>\n",
       "    </tr>\n",
       "    <tr>\n",
       "      <th>2</th>\n",
       "      <td>I thought this was a wonderful way to spend ti...</td>\n",
       "      <td>positive</td>\n",
       "    </tr>\n",
       "    <tr>\n",
       "      <th>3</th>\n",
       "      <td>Basically there's a family where a little boy ...</td>\n",
       "      <td>negative</td>\n",
       "    </tr>\n",
       "    <tr>\n",
       "      <th>4</th>\n",
       "      <td>Petter Mattei's \"Love in the Time of Money\" is...</td>\n",
       "      <td>positive</td>\n",
       "    </tr>\n",
       "  </tbody>\n",
       "</table>\n",
       "</div>"
      ],
      "text/plain": [
       "                                              review sentiment\n",
       "0  One of the other reviewers has mentioned that ...  positive\n",
       "1  A wonderful little production. <br /><br />The...  positive\n",
       "2  I thought this was a wonderful way to spend ti...  positive\n",
       "3  Basically there's a family where a little boy ...  negative\n",
       "4  Petter Mattei's \"Love in the Time of Money\" is...  positive"
      ]
     },
     "execution_count": 6,
     "metadata": {},
     "output_type": "execute_result"
    }
   ],
   "source": [
    "df.head()"
   ]
  },
  {
   "cell_type": "code",
   "execution_count": 7,
   "id": "88c92b6d",
   "metadata": {},
   "outputs": [],
   "source": [
    "lemmatizer = WordNetLemmatizer()\n",
    "stop_words = set(stopwords.words('english'))"
   ]
  },
  {
   "cell_type": "code",
   "execution_count": 8,
   "id": "6f101263",
   "metadata": {},
   "outputs": [
    {
     "name": "stderr",
     "output_type": "stream",
     "text": [
      "[nltk_data] Downloading package punkt to\n",
      "[nltk_data]     C:\\Users\\sansk\\AppData\\Roaming\\nltk_data...\n",
      "[nltk_data]   Package punkt is already up-to-date!\n",
      "[nltk_data] Downloading package wordnet to\n",
      "[nltk_data]     C:\\Users\\sansk\\AppData\\Roaming\\nltk_data...\n",
      "[nltk_data]   Package wordnet is already up-to-date!\n",
      "[nltk_data] Downloading package stopwords to\n",
      "[nltk_data]     C:\\Users\\sansk\\AppData\\Roaming\\nltk_data...\n",
      "[nltk_data]   Package stopwords is already up-to-date!\n"
     ]
    },
    {
     "data": {
      "text/plain": [
       "True"
      ]
     },
     "execution_count": 8,
     "metadata": {},
     "output_type": "execute_result"
    }
   ],
   "source": [
    "nltk.download('punkt')\n",
    "nltk.download('wordnet')\n",
    "nltk.download('stopwords')\n"
   ]
  },
  {
   "cell_type": "markdown",
   "id": "c382193f",
   "metadata": {},
   "source": [
    "Tokenization, Lemmatization"
   ]
  },
  {
   "cell_type": "code",
   "execution_count": 9,
   "id": "587c7555",
   "metadata": {},
   "outputs": [],
   "source": [
    "preprocessed_texts = []\n"
   ]
  },
  {
   "cell_type": "code",
   "execution_count": null,
   "id": "16bdd860",
   "metadata": {},
   "outputs": [],
   "source": [
    "for review in texts:\n",
    "    tokens = word_tokenize(review)\n",
    "    lemmatized_tokens = [lemmatizer.lemmatize(token) for token in tokens if token.isalnum()]\n",
    "    filtered_tokens = [token for token in lemmatized_tokens if token.lower() not in stop_words]\n",
    "    cleaned_text = ' '.join(filtered_tokens)\n",
    "    preprocessed_texts.append(cleaned_text)\n"
   ]
  },
  {
   "cell_type": "code",
   "execution_count": null,
   "id": "e698d8d4",
   "metadata": {},
   "outputs": [],
   "source": [
    "df['preprocessed_text'] = preprocessed_texts"
   ]
  },
  {
   "cell_type": "markdown",
   "id": "841c7fd4",
   "metadata": {},
   "source": [
    "CountVectorizer"
   ]
  },
  {
   "cell_type": "code",
   "execution_count": null,
   "id": "dbfbd217",
   "metadata": {},
   "outputs": [],
   "source": [
    "from sklearn.feature_extraction.text import CountVectorizer\n",
    "\n",
    "# Load the CSV file\n",
    "df = pd.read_csv('preprocessed_data_assignment1.csv') \n",
    "# Assuming the preprocessed text column is named 'preprocessed_text'\n",
    "preprocessed_texts = df['preprocessed_text'].tolist()\n",
    "\n",
    "vectorizer = CountVectorizer()\n",
    "X_count = vectorizer.fit_transform(preprocessed_texts)"
   ]
  },
  {
   "cell_type": "markdown",
   "id": "64aee6fc",
   "metadata": {},
   "source": [
    "TFIDFVectorizer"
   ]
  },
  {
   "cell_type": "code",
   "execution_count": null,
   "id": "502ae58a",
   "metadata": {},
   "outputs": [],
   "source": [
    "from sklearn.feature_extraction.text import TfidfVectorizer\n",
    "\n",
    "preprocessed_texts = df['preprocessed_text'].tolist()\n",
    "\n",
    "tfidf_vectorizer = TfidfVectorizer()\n",
    "X_tfidf = tfidf_vectorizer.fit_transform(preprocessed_texts)\n",
    "\n",
    "# word2vec_model = Word2Vec(data['preprocessed_text'], vector_size=100, window=5, min_count=1, sg=0)"
   ]
  },
  {
   "cell_type": "markdown",
   "id": "d6e3d5ac",
   "metadata": {},
   "source": [
    "ONE HOT ENCODING"
   ]
  },
  {
   "cell_type": "code",
   "execution_count": null,
   "id": "71dc3d4f",
   "metadata": {},
   "outputs": [],
   "source": [
    "one_hot_encoded_data = pd.get_dummies(df, columns = ['sentiment'])\n",
    "one_hot_encoded_data.head()\n"
   ]
  },
  {
   "cell_type": "code",
   "execution_count": null,
   "id": "65ab7ef7",
   "metadata": {},
   "outputs": [],
   "source": [
    "df.head()"
   ]
  },
  {
   "cell_type": "code",
   "execution_count": null,
   "id": "03715b0d",
   "metadata": {},
   "outputs": [],
   "source": [
    "df['sentiment'] = one_hot_encoded_data['sentiment_positive']"
   ]
  },
  {
   "cell_type": "code",
   "execution_count": null,
   "id": "4cca3334",
   "metadata": {},
   "outputs": [],
   "source": [
    "df.head()"
   ]
  },
  {
   "cell_type": "code",
   "execution_count": null,
   "id": "5e18a439",
   "metadata": {},
   "outputs": [],
   "source": [
    "labels = df.pop('sentiment')"
   ]
  },
  {
   "cell_type": "code",
   "execution_count": null,
   "id": "fad0f521",
   "metadata": {},
   "outputs": [],
   "source": [
    "from sklearn.model_selection import train_test_split\n",
    "from sklearn.linear_model import LogisticRegression\n",
    "from sklearn.svm import SVC\n",
    "from sklearn.ensemble import RandomForestClassifier\n",
    "from sklearn.metrics import classification_report\n",
    "\n",
    "X_train, X_test, y_train, y_test = train_test_split(preprocessed_texts, labels, test_size=0.2, random_state=42)"
   ]
  },
  {
   "cell_type": "markdown",
   "id": "be814843",
   "metadata": {},
   "source": [
    "logestic regression"
   ]
  },
  {
   "cell_type": "code",
   "execution_count": null,
   "id": "40aa0747",
   "metadata": {},
   "outputs": [],
   "source": [
    "logreg_cv = LogisticRegression()\n",
    "count_vectorizer = CountVectorizer()\n",
    "count_matrix = count_vectorizer.fit_transform(X_train)\n",
    "logreg_cv.fit(count_matrix, y_train)\n",
    "y_pred_cv_logreg = logreg_cv.predict(count_vectorizer.transform(X_test))\n",
    "print(\"Logistic Regression with CountVectorizer:\")\n",
    "print(classification_report(y_test, y_pred_cv_logreg))"
   ]
  },
  {
   "cell_type": "markdown",
   "id": "c1ca2f3f",
   "metadata": {},
   "source": [
    "using tfidf"
   ]
  },
  {
   "cell_type": "code",
   "execution_count": null,
   "id": "9d3d7ccb",
   "metadata": {},
   "outputs": [],
   "source": [
    "logreg_tfidf = LogisticRegression()\n",
    "tfidf_vectorizer = TfidfVectorizer()\n",
    "tfidf_matrix = tfidf_vectorizer.fit_transform(X_train)\n",
    "logreg_tfidf.fit(tfidf_matrix, y_train)\n",
    "y_pred_tfidf_logreg = logreg_tfidf.predict(tfidf_vectorizer.transform(X_test))\n",
    "print(\"Logistic Regression with TFIDFVectorizer:\")\n",
    "print(classification_report(y_test, y_pred_tfidf_logreg))"
   ]
  },
  {
   "cell_type": "markdown",
   "id": "53764c10",
   "metadata": {},
   "source": [
    "svc using count vectorizer\n"
   ]
  },
  {
   "cell_type": "code",
   "execution_count": null,
   "id": "37c96b30",
   "metadata": {},
   "outputs": [],
   "source": [
    "svc_cv = SVC()\n",
    "\n",
    "svc_cv.fit(count_matrix, y_train)\n",
    "y_pred_cv_svc = svc_cv.predict(count_vectorizer.transform(X_test))\n",
    "print(\"SVC with CountVectorizer:\")\n",
    "print(classification_report(y_test, y_pred_cv_svc))"
   ]
  },
  {
   "cell_type": "markdown",
   "id": "84d3ca96",
   "metadata": {},
   "source": [
    "svc using tfidf"
   ]
  },
  {
   "cell_type": "code",
   "execution_count": null,
   "id": "eaf7d807",
   "metadata": {},
   "outputs": [],
   "source": [
    "svc_tfidf = SVC()\n",
    "svc_tfidf.fit(tfidf_matrix, y_train)\n",
    "y_pred_tfidf_svc = svc_tfidf.predict(tfidf_vectorizer.transform(X_test))\n",
    "print(\"SVC with TFIDFVectorizer:\")\n",
    "print(classification_report(y_test, y_pred_tfidf_svc))"
   ]
  },
  {
   "cell_type": "markdown",
   "id": "e3edf33e",
   "metadata": {},
   "source": [
    "Random Forest using count vectorizer"
   ]
  },
  {
   "cell_type": "code",
   "execution_count": null,
   "id": "2afac941",
   "metadata": {},
   "outputs": [],
   "source": [
    "rfc_cv = RandomForestClassifier()\n",
    "\n",
    "rfc_cv.fit(count_matrix, y_train)\n",
    "y_pred_cv_rfc = rfc_cv.predict(count_vectorizer.transform(X_test))\n",
    "print(\"Random Forest with CountVectorizer:\")\n",
    "print(classification_report(y_test, y_pred_cv_rfc))"
   ]
  },
  {
   "cell_type": "raw",
   "id": "48f6b7d8",
   "metadata": {},
   "source": [
    "Random Forest Usinf TFIDF"
   ]
  },
  {
   "cell_type": "code",
   "execution_count": null,
   "id": "b413776d",
   "metadata": {},
   "outputs": [],
   "source": [
    "rfc_tfidf = RandomForestClassifier()\n",
    "rfc_tfidf.fit(tfidf_matrix, y_train)\n",
    "y_pred_tfidf_rfc = svc_tfidf.predict(tfidf_vectorizer.transform(X_test))\n",
    "print(\"Random Forest with TFIDFVectorizer:\")\n",
    "print(classification_report(y_test, y_pred_tfidf_rfc))"
   ]
  },
  {
   "cell_type": "code",
   "execution_count": null,
   "id": "9f744702",
   "metadata": {},
   "outputs": [],
   "source": []
  },
  {
   "cell_type": "code",
   "execution_count": null,
   "id": "2f09e0d3",
   "metadata": {},
   "outputs": [],
   "source": []
  },
  {
   "cell_type": "code",
   "execution_count": null,
   "id": "cdca65ff",
   "metadata": {},
   "outputs": [],
   "source": []
  },
  {
   "cell_type": "code",
   "execution_count": null,
   "id": "a2a71fbb",
   "metadata": {},
   "outputs": [],
   "source": []
  }
 ],
 "metadata": {
  "kernelspec": {
   "display_name": "Python 3 (ipykernel)",
   "language": "python",
   "name": "python3"
  },
  "language_info": {
   "codemirror_mode": {
    "name": "ipython",
    "version": 3
   },
   "file_extension": ".py",
   "mimetype": "text/x-python",
   "name": "python",
   "nbconvert_exporter": "python",
   "pygments_lexer": "ipython3",
   "version": "3.11.4"
  }
 },
 "nbformat": 4,
 "nbformat_minor": 5
}
